{
 "cells": [
  {
   "cell_type": "markdown",
   "id": "5cdcb605",
   "metadata": {},
   "source": [
    "# Gerekli kütüphaneleri ekliyoruz"
   ]
  },
  {
   "cell_type": "code",
   "execution_count": 9,
   "id": "2e2d945e",
   "metadata": {},
   "outputs": [],
   "source": [
    "import numpy as np\n",
    "import pandas as pd\n",
    "from simpletransformers.classification import ClassificationModel\n",
    "from sklearn.model_selection import train_test_split"
   ]
  },
  {
   "cell_type": "markdown",
   "id": "3881f6b9",
   "metadata": {},
   "source": [
    "# Eğiteceğimiz CSV dosyasını okuyoruz"
   ]
  },
  {
   "cell_type": "code",
   "execution_count": 10,
   "id": "774cb019",
   "metadata": {},
   "outputs": [],
   "source": [
    "data_path = 'data.csv'\n",
    "a = pd.read_csv(data_path, delimiter='|')\n",
    "a.dropna(subset=['text'], inplace=True)\n",
    "\n",
    "a[\"target\"].unique()\n",
    "\n",
    "# Farklı label'ları farklı sayılara çeviriyoruz\n",
    "\n",
    "a['labels'] = pd.factorize(a.target)[0]"
   ]
  },
  {
   "cell_type": "markdown",
   "id": "93df206a",
   "metadata": {},
   "source": [
    "# Sadece \"text\" ve \"label\" sütunlarını alarak veri kümemizi sadeleştiriyoruz"
   ]
  },
  {
   "cell_type": "code",
   "execution_count": 11,
   "id": "0450bb84",
   "metadata": {},
   "outputs": [],
   "source": [
    "train, test = train_test_split(a, test_size=0.1, random_state=42)\n",
    "\n",
    "train=train[[\"text\",\"labels\"]]\n",
    "test=test[[\"text\",\"labels\"]]\n",
    "\n",
    "train[\"text\"]=train[\"text\"].apply(lambda r: str(r))\n",
    "train['labels']=train['labels'].astype(int)"
   ]
  },
  {
   "cell_type": "markdown",
   "id": "ddeb7aa2",
   "metadata": {},
   "source": [
    "# Modeli tanımlıyoruz"
   ]
  },
  {
   "cell_type": "code",
   "execution_count": null,
   "id": "e421085e",
   "metadata": {},
   "outputs": [],
   "source": [
    "model = ClassificationModel('bert', 'dbmdz/bert-base-turkish-uncased', num_labels=5, use_cuda=False,\n",
    "                            args={'reprocess_input_data': True, 'overwrite_output_dir': True, 'num_train_epochs': 3, \"train_batch_size\": 64 , \"fp16\":False,\"output_dir\":\"bert_model\"})"
   ]
  },
  {
   "cell_type": "markdown",
   "id": "a33aae1a",
   "metadata": {},
   "source": [
    "# Modeli Eğitiyoruz"
   ]
  },
  {
   "cell_type": "code",
   "execution_count": null,
   "id": "4c061496",
   "metadata": {},
   "outputs": [],
   "source": [
    "model.train_model(train)\n",
    "\n",
    "result, model_outputs, wrong_predictions = model.eval_model(test)\n",
    "predictions = model_outputs.argmax(axis=1)\n",
    "actuals = test.labels.values\n",
    "\n",
    "\n",
    "model_name = \"turkish_bert_model\"\n",
    "model_path = f\"{model_name}\"\n",
    "model.save_model(model_path)"
   ]
  }
 ],
 "metadata": {
  "kernelspec": {
   "display_name": "Python 3 (ipykernel)",
   "language": "python",
   "name": "python3"
  },
  "language_info": {
   "codemirror_mode": {
    "name": "ipython",
    "version": 3
   },
   "file_extension": ".py",
   "mimetype": "text/x-python",
   "name": "python",
   "nbconvert_exporter": "python",
   "pygments_lexer": "ipython3",
   "version": "3.9.13"
  }
 },
 "nbformat": 4,
 "nbformat_minor": 5
}
